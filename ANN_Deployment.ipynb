{
 "cells": [
  {
   "cell_type": "code",
   "execution_count": 1,
   "metadata": {
    "scrolled": true
   },
   "outputs": [],
   "source": [
    "import pandas as pd\n",
    "import numpy as np\n",
    "import matplotlib.pyplot as plt\n",
    "import seaborn as sns"
   ]
  },
  {
   "cell_type": "code",
   "execution_count": 2,
   "metadata": {
    "scrolled": true
   },
   "outputs": [],
   "source": [
    "df=pd.read_csv('Churn_dataset/Churn_Modelling.csv')"
   ]
  },
  {
   "cell_type": "code",
   "execution_count": 3,
   "metadata": {
    "scrolled": true
   },
   "outputs": [
    {
     "data": {
      "text/html": [
       "<div>\n",
       "<style scoped>\n",
       "    .dataframe tbody tr th:only-of-type {\n",
       "        vertical-align: middle;\n",
       "    }\n",
       "\n",
       "    .dataframe tbody tr th {\n",
       "        vertical-align: top;\n",
       "    }\n",
       "\n",
       "    .dataframe thead th {\n",
       "        text-align: right;\n",
       "    }\n",
       "</style>\n",
       "<table border=\"1\" class=\"dataframe\">\n",
       "  <thead>\n",
       "    <tr style=\"text-align: right;\">\n",
       "      <th></th>\n",
       "      <th>RowNumber</th>\n",
       "      <th>CustomerId</th>\n",
       "      <th>Surname</th>\n",
       "      <th>CreditScore</th>\n",
       "      <th>Geography</th>\n",
       "      <th>Gender</th>\n",
       "      <th>Age</th>\n",
       "      <th>Tenure</th>\n",
       "      <th>Balance</th>\n",
       "      <th>NumOfProducts</th>\n",
       "      <th>HasCrCard</th>\n",
       "      <th>IsActiveMember</th>\n",
       "      <th>EstimatedSalary</th>\n",
       "      <th>Exited</th>\n",
       "    </tr>\n",
       "  </thead>\n",
       "  <tbody>\n",
       "    <tr>\n",
       "      <th>0</th>\n",
       "      <td>1</td>\n",
       "      <td>15634602</td>\n",
       "      <td>Hargrave</td>\n",
       "      <td>619</td>\n",
       "      <td>France</td>\n",
       "      <td>Female</td>\n",
       "      <td>42</td>\n",
       "      <td>2</td>\n",
       "      <td>0.00</td>\n",
       "      <td>1</td>\n",
       "      <td>1</td>\n",
       "      <td>1</td>\n",
       "      <td>101348.88</td>\n",
       "      <td>1</td>\n",
       "    </tr>\n",
       "    <tr>\n",
       "      <th>1</th>\n",
       "      <td>2</td>\n",
       "      <td>15647311</td>\n",
       "      <td>Hill</td>\n",
       "      <td>608</td>\n",
       "      <td>Spain</td>\n",
       "      <td>Female</td>\n",
       "      <td>41</td>\n",
       "      <td>1</td>\n",
       "      <td>83807.86</td>\n",
       "      <td>1</td>\n",
       "      <td>0</td>\n",
       "      <td>1</td>\n",
       "      <td>112542.58</td>\n",
       "      <td>0</td>\n",
       "    </tr>\n",
       "    <tr>\n",
       "      <th>2</th>\n",
       "      <td>3</td>\n",
       "      <td>15619304</td>\n",
       "      <td>Onio</td>\n",
       "      <td>502</td>\n",
       "      <td>France</td>\n",
       "      <td>Female</td>\n",
       "      <td>42</td>\n",
       "      <td>8</td>\n",
       "      <td>159660.80</td>\n",
       "      <td>3</td>\n",
       "      <td>1</td>\n",
       "      <td>0</td>\n",
       "      <td>113931.57</td>\n",
       "      <td>1</td>\n",
       "    </tr>\n",
       "    <tr>\n",
       "      <th>3</th>\n",
       "      <td>4</td>\n",
       "      <td>15701354</td>\n",
       "      <td>Boni</td>\n",
       "      <td>699</td>\n",
       "      <td>France</td>\n",
       "      <td>Female</td>\n",
       "      <td>39</td>\n",
       "      <td>1</td>\n",
       "      <td>0.00</td>\n",
       "      <td>2</td>\n",
       "      <td>0</td>\n",
       "      <td>0</td>\n",
       "      <td>93826.63</td>\n",
       "      <td>0</td>\n",
       "    </tr>\n",
       "    <tr>\n",
       "      <th>4</th>\n",
       "      <td>5</td>\n",
       "      <td>15737888</td>\n",
       "      <td>Mitchell</td>\n",
       "      <td>850</td>\n",
       "      <td>Spain</td>\n",
       "      <td>Female</td>\n",
       "      <td>43</td>\n",
       "      <td>2</td>\n",
       "      <td>125510.82</td>\n",
       "      <td>1</td>\n",
       "      <td>1</td>\n",
       "      <td>1</td>\n",
       "      <td>79084.10</td>\n",
       "      <td>0</td>\n",
       "    </tr>\n",
       "  </tbody>\n",
       "</table>\n",
       "</div>"
      ],
      "text/plain": [
       "   RowNumber  CustomerId   Surname  CreditScore Geography  Gender  Age  \\\n",
       "0          1    15634602  Hargrave          619    France  Female   42   \n",
       "1          2    15647311      Hill          608     Spain  Female   41   \n",
       "2          3    15619304      Onio          502    France  Female   42   \n",
       "3          4    15701354      Boni          699    France  Female   39   \n",
       "4          5    15737888  Mitchell          850     Spain  Female   43   \n",
       "\n",
       "   Tenure    Balance  NumOfProducts  HasCrCard  IsActiveMember  \\\n",
       "0       2       0.00              1          1               1   \n",
       "1       1   83807.86              1          0               1   \n",
       "2       8  159660.80              3          1               0   \n",
       "3       1       0.00              2          0               0   \n",
       "4       2  125510.82              1          1               1   \n",
       "\n",
       "   EstimatedSalary  Exited  \n",
       "0        101348.88       1  \n",
       "1        112542.58       0  \n",
       "2        113931.57       1  \n",
       "3         93826.63       0  \n",
       "4         79084.10       0  "
      ]
     },
     "execution_count": 3,
     "metadata": {},
     "output_type": "execute_result"
    }
   ],
   "source": [
    "df.head()"
   ]
  },
  {
   "cell_type": "code",
   "execution_count": 4,
   "metadata": {
    "scrolled": true
   },
   "outputs": [],
   "source": [
    "X=df.iloc[:,3:13]\n",
    "y=df.iloc[:,13]"
   ]
  },
  {
   "cell_type": "code",
   "execution_count": 5,
   "metadata": {
    "scrolled": true
   },
   "outputs": [],
   "source": [
    "geography=pd.get_dummies(X[\"Geography\"],drop_first=True)\n",
    "gender=pd.get_dummies(X[\"Gender\"],drop_first=True)"
   ]
  },
  {
   "cell_type": "code",
   "execution_count": 6,
   "metadata": {
    "scrolled": true
   },
   "outputs": [],
   "source": [
    "X=pd.concat([X,geography,gender],axis=1)"
   ]
  },
  {
   "cell_type": "code",
   "execution_count": 7,
   "metadata": {
    "scrolled": true
   },
   "outputs": [],
   "source": [
    "X=X.drop([\"Geography\",\"Gender\"],axis=1)"
   ]
  },
  {
   "cell_type": "code",
   "execution_count": 8,
   "metadata": {
    "scrolled": true
   },
   "outputs": [],
   "source": [
    "from sklearn.model_selection import train_test_split"
   ]
  },
  {
   "cell_type": "code",
   "execution_count": 9,
   "metadata": {
    "scrolled": true
   },
   "outputs": [],
   "source": [
    "X_train,X_test,y_train,y_test=train_test_split(X,y, test_size=0.2, random_state=0)"
   ]
  },
  {
   "cell_type": "code",
   "execution_count": 10,
   "metadata": {
    "scrolled": true
   },
   "outputs": [],
   "source": [
    "from sklearn.preprocessing import StandardScaler\n",
    "sc=StandardScaler()\n",
    "X_train=sc.fit_transform(X_train)\n",
    "X_test=sc.transform(X_test)"
   ]
  },
  {
   "cell_type": "markdown",
   "metadata": {},
   "source": [
    "# ANN"
   ]
  },
  {
   "cell_type": "code",
   "execution_count": 11,
   "metadata": {
    "scrolled": true
   },
   "outputs": [
    {
     "name": "stderr",
     "output_type": "stream",
     "text": [
      "Using TensorFlow backend.\n"
     ]
    }
   ],
   "source": [
    "import keras \n",
    "from keras.models import Sequential\n",
    "from keras.layers import Dense\n",
    "from keras.layers import LeakyReLU,PReLU,ELU\n",
    "from keras.layers import Dropout"
   ]
  },
  {
   "cell_type": "code",
   "execution_count": 12,
   "metadata": {
    "scrolled": true
   },
   "outputs": [],
   "source": [
    "classifier=Sequential()"
   ]
  },
  {
   "cell_type": "code",
   "execution_count": 13,
   "metadata": {
    "scrolled": true
   },
   "outputs": [],
   "source": [
    "#Adding input layer and first layer\n",
    "#unit is first hidden layer where we give 6 preceptron \n",
    "#kernel_initializer is weight initial\n",
    "#input_dim is the number of input layers as we have 11 feature we give 11\n",
    "classifier.add(Dense(units=10, kernel_initializer='he_uniform', activation='relu',input_dim=11))"
   ]
  },
  {
   "cell_type": "code",
   "execution_count": 14,
   "metadata": {
    "scrolled": true
   },
   "outputs": [],
   "source": [
    "classifier.add(Dense(units=20, kernel_initializer='he_uniform', activation='relu'))"
   ]
  },
  {
   "cell_type": "code",
   "execution_count": 15,
   "metadata": {
    "scrolled": true
   },
   "outputs": [],
   "source": [
    "classifier.add(Dense(units=1, kernel_initializer='glorot_uniform', activation='sigmoid'))"
   ]
  },
  {
   "cell_type": "code",
   "execution_count": 16,
   "metadata": {
    "scrolled": false
   },
   "outputs": [],
   "source": [
    "#compiling the ANN\n",
    "classifier.compile(\n",
    "    optimizer='Adam',\n",
    "    loss='binary_crossentropy',\n",
    "    metrics=['accuracy']\n",
    ")"
   ]
  },
  {
   "cell_type": "code",
   "execution_count": 17,
   "metadata": {
    "scrolled": false
   },
   "outputs": [
    {
     "name": "stdout",
     "output_type": "stream",
     "text": [
      "Train on 5200 samples, validate on 2800 samples\n",
      "Epoch 1/50\n",
      "5200/5200 [==============================] - 3s 579us/step - loss: 0.5300 - accuracy: 0.7950 - val_loss: 0.4982 - val_accuracy: 0.7936\n",
      "Epoch 2/50\n",
      "5200/5200 [==============================] - 0s 85us/step - loss: 0.4843 - accuracy: 0.7958 - val_loss: 0.4785 - val_accuracy: 0.7921\n",
      "Epoch 3/50\n",
      "5200/5200 [==============================] - 0s 86us/step - loss: 0.4702 - accuracy: 0.7963 - val_loss: 0.4690 - val_accuracy: 0.7929\n",
      "Epoch 4/50\n",
      "5200/5200 [==============================] - 0s 77us/step - loss: 0.4619 - accuracy: 0.7971 - val_loss: 0.4637 - val_accuracy: 0.7943\n",
      "Epoch 5/50\n",
      "5200/5200 [==============================] - 0s 84us/step - loss: 0.4563 - accuracy: 0.7981 - val_loss: 0.4592 - val_accuracy: 0.7946\n",
      "Epoch 6/50\n",
      "5200/5200 [==============================] - 0s 82us/step - loss: 0.4520 - accuracy: 0.7987 - val_loss: 0.4557 - val_accuracy: 0.7946\n",
      "Epoch 7/50\n",
      "5200/5200 [==============================] - 0s 84us/step - loss: 0.4479 - accuracy: 0.8006 - val_loss: 0.4530 - val_accuracy: 0.7954\n",
      "Epoch 8/50\n",
      "5200/5200 [==============================] - 1s 106us/step - loss: 0.4447 - accuracy: 0.8021 - val_loss: 0.4503 - val_accuracy: 0.7968\n",
      "Epoch 9/50\n",
      "5200/5200 [==============================] - 1s 111us/step - loss: 0.4417 - accuracy: 0.8031 - val_loss: 0.4480 - val_accuracy: 0.7989\n",
      "Epoch 10/50\n",
      "5200/5200 [==============================] - 1s 144us/step - loss: 0.4389 - accuracy: 0.8060 - val_loss: 0.4455 - val_accuracy: 0.8011\n",
      "Epoch 11/50\n",
      "5200/5200 [==============================] - 1s 105us/step - loss: 0.4365 - accuracy: 0.8069 - val_loss: 0.4437 - val_accuracy: 0.8007\n",
      "Epoch 12/50\n",
      "5200/5200 [==============================] - 1s 130us/step - loss: 0.4341 - accuracy: 0.8083 - val_loss: 0.4414 - val_accuracy: 0.8018\n",
      "Epoch 13/50\n",
      "5200/5200 [==============================] - 1s 127us/step - loss: 0.4317 - accuracy: 0.8087 - val_loss: 0.4394 - val_accuracy: 0.8018\n",
      "Epoch 14/50\n",
      "5200/5200 [==============================] - 0s 92us/step - loss: 0.4293 - accuracy: 0.8098 - val_loss: 0.4375 - val_accuracy: 0.8029\n",
      "Epoch 15/50\n",
      "5200/5200 [==============================] - 1s 128us/step - loss: 0.4271 - accuracy: 0.8096 - val_loss: 0.4353 - val_accuracy: 0.8061\n",
      "Epoch 16/50\n",
      "5200/5200 [==============================] - 1s 138us/step - loss: 0.4247 - accuracy: 0.8112 - val_loss: 0.4335 - val_accuracy: 0.8075\n",
      "Epoch 17/50\n",
      "5200/5200 [==============================] - 0s 91us/step - loss: 0.4225 - accuracy: 0.8129 - val_loss: 0.4316 - val_accuracy: 0.8107\n",
      "Epoch 18/50\n",
      "5200/5200 [==============================] - 0s 82us/step - loss: 0.4201 - accuracy: 0.8133 - val_loss: 0.4294 - val_accuracy: 0.8125\n",
      "Epoch 19/50\n",
      "5200/5200 [==============================] - 1s 105us/step - loss: 0.4178 - accuracy: 0.8150 - val_loss: 0.4275 - val_accuracy: 0.8132\n",
      "Epoch 20/50\n",
      "5200/5200 [==============================] - 0s 88us/step - loss: 0.4156 - accuracy: 0.8181 - val_loss: 0.4253 - val_accuracy: 0.8157\n",
      "Epoch 21/50\n",
      "5200/5200 [==============================] - 0s 94us/step - loss: 0.4132 - accuracy: 0.8206 - val_loss: 0.4231 - val_accuracy: 0.8157\n",
      "Epoch 22/50\n",
      "5200/5200 [==============================] - 0s 83us/step - loss: 0.4107 - accuracy: 0.8219 - val_loss: 0.4211 - val_accuracy: 0.8171\n",
      "Epoch 23/50\n",
      "5200/5200 [==============================] - 0s 76us/step - loss: 0.4082 - accuracy: 0.8227 - val_loss: 0.4188 - val_accuracy: 0.8186\n",
      "Epoch 24/50\n",
      "5200/5200 [==============================] - 1s 96us/step - loss: 0.4057 - accuracy: 0.8238 - val_loss: 0.4169 - val_accuracy: 0.8196\n",
      "Epoch 25/50\n",
      "5200/5200 [==============================] - 0s 95us/step - loss: 0.4031 - accuracy: 0.8244 - val_loss: 0.4143 - val_accuracy: 0.8239\n",
      "Epoch 26/50\n",
      "5200/5200 [==============================] - 1s 115us/step - loss: 0.4006 - accuracy: 0.8273 - val_loss: 0.4122 - val_accuracy: 0.8236\n",
      "Epoch 27/50\n",
      "5200/5200 [==============================] - 0s 83us/step - loss: 0.3979 - accuracy: 0.8292 - val_loss: 0.4100 - val_accuracy: 0.8254\n",
      "Epoch 28/50\n",
      "5200/5200 [==============================] - 0s 83us/step - loss: 0.3953 - accuracy: 0.8302 - val_loss: 0.4078 - val_accuracy: 0.8268\n",
      "Epoch 29/50\n",
      "5200/5200 [==============================] - 1s 104us/step - loss: 0.3926 - accuracy: 0.8306 - val_loss: 0.4053 - val_accuracy: 0.8300\n",
      "Epoch 30/50\n",
      "5200/5200 [==============================] - 0s 60us/step - loss: 0.3900 - accuracy: 0.8319 - val_loss: 0.4032 - val_accuracy: 0.8304\n",
      "Epoch 31/50\n",
      "5200/5200 [==============================] - 1s 111us/step - loss: 0.3874 - accuracy: 0.8331 - val_loss: 0.4011 - val_accuracy: 0.8318\n",
      "Epoch 32/50\n",
      "5200/5200 [==============================] - 1s 101us/step - loss: 0.3848 - accuracy: 0.8354 - val_loss: 0.3990 - val_accuracy: 0.8318\n",
      "Epoch 33/50\n",
      "5200/5200 [==============================] - 0s 81us/step - loss: 0.3823 - accuracy: 0.8358 - val_loss: 0.3973 - val_accuracy: 0.8329\n",
      "Epoch 34/50\n",
      "5200/5200 [==============================] - 0s 89us/step - loss: 0.3798 - accuracy: 0.8377 - val_loss: 0.3952 - val_accuracy: 0.8336\n",
      "Epoch 35/50\n",
      "5200/5200 [==============================] - 0s 95us/step - loss: 0.3776 - accuracy: 0.8388 - val_loss: 0.3934 - val_accuracy: 0.8354\n",
      "Epoch 36/50\n",
      "5200/5200 [==============================] - 0s 81us/step - loss: 0.3752 - accuracy: 0.8404 - val_loss: 0.3917 - val_accuracy: 0.8364\n",
      "Epoch 37/50\n",
      "5200/5200 [==============================] - 1s 122us/step - loss: 0.3730 - accuracy: 0.8404 - val_loss: 0.3899 - val_accuracy: 0.8371\n",
      "Epoch 38/50\n",
      "5200/5200 [==============================] - 0s 85us/step - loss: 0.3709 - accuracy: 0.8398 - val_loss: 0.3884 - val_accuracy: 0.8389\n",
      "Epoch 39/50\n",
      "5200/5200 [==============================] - 0s 84us/step - loss: 0.3690 - accuracy: 0.8412 - val_loss: 0.3872 - val_accuracy: 0.8396\n",
      "Epoch 40/50\n",
      "5200/5200 [==============================] - 0s 80us/step - loss: 0.3672 - accuracy: 0.8442 - val_loss: 0.3859 - val_accuracy: 0.8400\n",
      "Epoch 41/50\n",
      "5200/5200 [==============================] - 0s 83us/step - loss: 0.3653 - accuracy: 0.8446 - val_loss: 0.3844 - val_accuracy: 0.8407\n",
      "Epoch 42/50\n",
      "5200/5200 [==============================] - 0s 85us/step - loss: 0.3637 - accuracy: 0.8458 - val_loss: 0.3834 - val_accuracy: 0.8400\n",
      "Epoch 43/50\n",
      "5200/5200 [==============================] - 0s 85us/step - loss: 0.3622 - accuracy: 0.8456 - val_loss: 0.3822 - val_accuracy: 0.8396\n",
      "Epoch 44/50\n",
      "5200/5200 [==============================] - 0s 83us/step - loss: 0.3605 - accuracy: 0.8463 - val_loss: 0.3812 - val_accuracy: 0.8396\n",
      "Epoch 45/50\n",
      "5200/5200 [==============================] - 0s 81us/step - loss: 0.3590 - accuracy: 0.8469 - val_loss: 0.3798 - val_accuracy: 0.8411\n",
      "Epoch 46/50\n",
      "5200/5200 [==============================] - 0s 84us/step - loss: 0.3576 - accuracy: 0.8477 - val_loss: 0.3789 - val_accuracy: 0.8414\n",
      "Epoch 47/50\n",
      "5200/5200 [==============================] - 0s 82us/step - loss: 0.3561 - accuracy: 0.8483 - val_loss: 0.3778 - val_accuracy: 0.8425\n",
      "Epoch 48/50\n",
      "5200/5200 [==============================] - 0s 84us/step - loss: 0.3548 - accuracy: 0.8488 - val_loss: 0.3770 - val_accuracy: 0.8432\n",
      "Epoch 49/50\n",
      "5200/5200 [==============================] - 0s 84us/step - loss: 0.3536 - accuracy: 0.8502 - val_loss: 0.3759 - val_accuracy: 0.8429\n",
      "Epoch 50/50\n",
      "5200/5200 [==============================] - 0s 81us/step - loss: 0.3524 - accuracy: 0.8517 - val_loss: 0.3752 - val_accuracy: 0.8439\n"
     ]
    }
   ],
   "source": [
    "#Fitting the ANN to the Training set\n",
    "model_history=classifier.fit(X_train,y_train,validation_split=0.35, batch_size=100, epochs=50)\n"
   ]
  },
  {
   "cell_type": "code",
   "execution_count": 18,
   "metadata": {
    "scrolled": true
   },
   "outputs": [
    {
     "name": "stdout",
     "output_type": "stream",
     "text": [
      "dict_keys(['val_loss', 'val_accuracy', 'loss', 'accuracy'])\n"
     ]
    }
   ],
   "source": [
    "#list all data in history\n",
    "print(model_history.history.keys())"
   ]
  },
  {
   "cell_type": "code",
   "execution_count": 19,
   "metadata": {
    "scrolled": true
   },
   "outputs": [
    {
     "data": {
      "image/png": "[encoded data removed]",
      "text/plain": [
       "<Figure size 432x288 with 1 Axes>"
      ]
     },
     "metadata": {
      "needs_background": "light"
     },
     "output_type": "display_data"
    }
   ],
   "source": [
    "plt.plot(model_history.history['accuracy'])\n",
    "plt.plot(model_history.history['val_accuracy'])\n",
    "plt.title(\"val_accuracy\")\n",
    "plt.ylabel('accuracy')\n",
    "plt.xlabel('epoch')\n",
    "plt.legend(['train','test'], loc='upper left')\n",
    "plt.show()"
   ]
  },
  {
   "cell_type": "code",
   "execution_count": 20,
   "metadata": {
    "scrolled": true
   },
   "outputs": [],
   "source": [
    "#Predict Test Result\n",
    "y_pred=classifier.predict(X_test)\n",
    "y_pred=(y_pred>0.50)"
   ]
  },
  {
   "cell_type": "code",
   "execution_count": 21,
   "metadata": {
    "scrolled": true
   },
   "outputs": [],
   "source": [
    "#Making Confusion Matrix\n",
    "from sklearn.metrics import confusion_matrix\n",
    "cm=confusion_matrix(y_test,y_pred)"
   ]
  },
  {
   "cell_type": "code",
   "execution_count": 24,
   "metadata": {},
   "outputs": [
    {
     "data": {
      "text/plain": [
       "array([[1513,   82],\n",
       "       [ 225,  180]], dtype=int64)"
      ]
     },
     "execution_count": 24,
     "metadata": {},
     "output_type": "execute_result"
    }
   ],
   "source": [
    "cm"
   ]
  },
  {
   "cell_type": "code",
   "execution_count": 22,
   "metadata": {
    "scrolled": true
   },
   "outputs": [],
   "source": [
    "#Calculate Accuracy\n",
    "from sklearn.metrics import accuracy_score\n",
    "score=accuracy_score(y_pred,y_test)"
   ]
  },
  {
   "cell_type": "code",
   "execution_count": 23,
   "metadata": {
    "scrolled": true
   },
   "outputs": [
    {
     "data": {
      "text/plain": [
       "0.8465"
      ]
     },
     "execution_count": 23,
     "metadata": {},
     "output_type": "execute_result"
    }
   ],
   "source": [
    "score"
   ]
  },
  {
   "cell_type": "code",
   "execution_count": null,
   "metadata": {
    "scrolled": true
   },
   "outputs": [],
   "source": []
  }
 ],
 "metadata": {
  "kernelspec": {
   "display_name": "gputest",
   "language": "python",
   "name": "gputest"
  },
  "language_info": {
   "codemirror_mode": {
    "name": "ipython",
    "version": 3
   },
   "file_extension": ".py",
   "mimetype": "text/x-python",
   "name": "python",
   "nbconvert_exporter": "python",
   "pygments_lexer": "ipython3",
   "version": "3.6.13"
  }
 },
 "nbformat": 4,
 "nbformat_minor": 4
}
